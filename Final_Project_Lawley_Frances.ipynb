{
  "nbformat": 4,
  "nbformat_minor": 0,
  "metadata": {
    "colab": {
      "name": "Final Project Lawley Frances.ipynb",
      "provenance": [],
      "collapsed_sections": [],
      "include_colab_link": true
    },
    "kernelspec": {
      "name": "python3",
      "display_name": "Python 3"
    },
    "language_info": {
      "name": "python"
    }
  },
  "cells": [
    {
      "cell_type": "markdown",
      "metadata": {
        "id": "view-in-github",
        "colab_type": "text"
      },
      "source": [
        "<a href=\"https://colab.research.google.com/github/franceslawley/Machine-Learning-Stroke-Prediction/blob/main/Final_Project_Lawley_Frances.ipynb\" target=\"_parent\"><img src=\"https://colab.research.google.com/assets/colab-badge.svg\" alt=\"Open In Colab\"/></a>"
      ]
    },
    {
      "cell_type": "markdown",
      "metadata": {
        "id": "HLZ91mmvMQyl"
      },
      "source": [
        "## **Machine Learning Final Project**"
      ]
    },
    {
      "cell_type": "markdown",
      "metadata": {
        "id": "6KQPTknNEuqo"
      },
      "source": [
        "# **Data Wrangling**"
      ]
    },
    {
      "cell_type": "code",
      "metadata": {
        "id": "l59JqfOqCcvC"
      },
      "source": [
        "#Import Packages\n",
        "\n",
        "import pandas as pd\n",
        "import numpy as np\n",
        "import seaborn as sb\n",
        "from scipy import stats\n",
        "import matplotlib.pyplot as plt\n",
        "import matplotlib.cm as cm\n",
        "from matplotlib.ticker import ScalarFormatter\n",
        "\n",
        "from sklearn.model_selection import train_test_split\n",
        "from sklearn.dummy import DummyClassifier\n",
        "\n",
        "from sklearn.metrics import mean_squared_error\n",
        "from sklearn.impute import SimpleImputer\n",
        "from sklearn.preprocessing import MinMaxScaler\n",
        "from sklearn import metrics"
      ],
      "execution_count": 1,
      "outputs": []
    },
    {
      "cell_type": "code",
      "metadata": {
        "id": "ZzWRBLl6MImY"
      },
      "source": [
        "#Load Data\n",
        "\n",
        "pd.set_option('display.max_columns', None)\n",
        "data = pd.read_csv('stroke.csv')\n",
        "df = pd.DataFrame(data)\n",
        "df.columns = [\"ID\", \"Gender\", \"Age\", \"Hypertension\", \"Heart Disease\", \"Ever Married\", \"Work Type\", \"Residence Type\", \"Avg. Glucose Level\", \"BMI\", \"Smoking Status\", \"Stroke\"]\n",
        "\n",
        "print(df.info())\n",
        "print(df.shape) \n",
        "#print(df.isnull().sum())\n",
        "print(df.isnull().sum() / len(df) * 100)\n",
        "\n",
        "plt.figure(figsize=(20,10))\n",
        "sb.heatmap(df.corr(),annot=True)\n",
        "#df.corr()\n",
        "\n",
        "#5110 rows, 12 columns\n",
        "#bmi is only feature with 201 null values, or 3.9% null values\n",
        "#bmi has second lowest correlation (0.04) to our target variable 'stroke'\n",
        "#id has the lowest correlation (0.006) to our target varialbe 'stroke' --> will not include id column "
      ],
      "execution_count": null,
      "outputs": []
    },
    {
      "cell_type": "code",
      "metadata": {
        "id": "vqdkbfcBPxkH"
      },
      "source": [
        "#Categorical Features\n",
        "categorical_features = [features for features in df.columns if df[features].dtype == 'int64']\n",
        "print('Number of categorical features: ', len(categorical_features)-1, categorical_features[1:4])\n",
        "\n",
        "#Continuous Features\n",
        "continuous_features = [features for features in df.columns if df[features].dtype == 'float']\n",
        "print('Number of continuous features: ', len(continuous_features), continuous_features)"
      ],
      "execution_count": null,
      "outputs": []
    },
    {
      "cell_type": "code",
      "metadata": {
        "id": "6157a4noDC9s"
      },
      "source": [
        "#DROP id column (no predicting power)\n",
        "df_stroke = df.drop(columns=['ID'])\n",
        "\n",
        "#REMOVE rows with missing BMI values\n",
        "df_stroke = df_stroke.dropna(subset=['BMI'])\n",
        "pd.set_option('display.max_rows', None)\n",
        "print(df_stroke.info())\n",
        "\n",
        "#df_stroke['BMI'] = df_stroke['BMI'].fillna(df_stroke['BMI'].median()) --> could replace with median value but risky to assume"
      ],
      "execution_count": null,
      "outputs": []
    },
    {
      "cell_type": "code",
      "metadata": {
        "id": "cQsduq0Y0TIv"
      },
      "source": [
        "#Plot count plots for non-continuous features\n",
        "\n",
        "fig,axes = plt.subplots(4,2,figsize = (16,16))\n",
        "plt.figure(figsize=(5,5))\n",
        "sb.countplot(ax=axes[0,0], x='Gender', data = df_stroke)\n",
        "\n",
        "sb.countplot(ax=axes[0,1], x='Hypertension', data = df_stroke)\n",
        "\n",
        "sb.countplot(ax=axes[1,0], x='Heart Disease', data = df_stroke)\n",
        "\n",
        "sb.countplot(ax=axes[1,1], x='Ever Married', data = df_stroke)\n",
        "\n",
        "sb.countplot(ax=axes[2,0], x='Work Type', data = df_stroke)\n",
        "\n",
        "sb.countplot(ax=axes[2,1], x='Residence Type', data = df_stroke)\n",
        "\n",
        "sb.countplot(ax=axes[3,0], x='Smoking Status', data = df_stroke)\n",
        "\n",
        "sb.countplot(ax=axes[3,1], x='Stroke', data = df_stroke)\n",
        "\n",
        "plt.show()"
      ],
      "execution_count": null,
      "outputs": []
    },
    {
      "cell_type": "code",
      "metadata": {
        "id": "dkzKmxEfVE8l"
      },
      "source": [
        "#Plot histogram for continuous features\n",
        "continuous_features = [features for features in df.columns if df[features].dtype == 'float']\n",
        "\n",
        "for features in continuous_features:\n",
        "  plt.figure(figsize=(5,5))\n",
        "  data = df_stroke.copy()\n",
        "  data[features].hist(bins=25)\n",
        "  plt.xlabel(features)\n",
        "  plt.ylabel('Stroke')\n",
        "  plt.grid(False)\n",
        "  plt.show()\n",
        "\n",
        "#We can see that Avg. Glucose Level and BMI are right skewed"
      ],
      "execution_count": null,
      "outputs": []
    },
    {
      "cell_type": "markdown",
      "metadata": {
        "id": "5vRbG1M8FPuU"
      },
      "source": [
        "# **Data Modeling**"
      ]
    },
    {
      "cell_type": "code",
      "metadata": {
        "id": "JEiugXkPSvHO"
      },
      "source": [
        "#Create X/Y and Split into Train/Test\n",
        "\n",
        "X = df_stroke.iloc[:, 0:-1]\n",
        "y = df_stroke.iloc[:, -1]\n",
        "\n",
        "X_train, X_test, y_train, y_test = train_test_split(X, y, test_size=0.3, stratify=y, random_state=42)"
      ],
      "execution_count": 7,
      "outputs": []
    },
    {
      "cell_type": "code",
      "metadata": {
        "id": "6mfrzMsyT2Zp"
      },
      "source": [
        "#Baseline classification accuracy \n",
        "\n",
        "from sklearn.dummy import DummyClassifier\n",
        "\n",
        "dummy_classifier = DummyClassifier(strategy='most_frequent', random_state=42)\n",
        "dummy_classifier.fit(X_train,y_train)\n",
        "baseline_acc = dummy_classifier.score(X_test,y_test)\n",
        "print(\"Baseline Accuracy = \", baseline_acc)"
      ],
      "execution_count": null,
      "outputs": []
    },
    {
      "cell_type": "code",
      "metadata": {
        "id": "NcEUOPJmUF0I"
      },
      "source": [
        "#Linear Regression Model\n",
        "from sklearn.linear_model import LinearRegression\n",
        "from sklearn.metrics import accuracy_score\n",
        "from yellowbrick.regressor import ResidualsPlot\n",
        "from sklearn.metrics import mean_squared_error\n",
        "\n",
        "#Set Dummy Variables\n",
        "df_dummies = pd.get_dummies(df_stroke[['Gender', 'Ever Married', 'Work Type', 'Residence Type', 'Smoking Status']])\n",
        "df_stroke2 = pd.concat([df_stroke,df_dummies],axis=1)\n",
        "\n",
        "#Drop old columns and 'Gender_Other' column (all 0 values)\n",
        "df_stroke2 = df_stroke2.drop(columns=['Gender', 'Ever Married', 'Work Type', 'Residence Type', 'Smoking Status'])\n",
        "df_stroke2 = df_stroke2.drop(columns=['Gender_Other'])\n",
        "#print(df_stroke.info())\n",
        "\n",
        "#Make model, fit, predict\n",
        "X = df_stroke2[['Age', 'Hypertension', 'Heart Disease', 'Avg. Glucose Level', 'BMI', \n",
        "                'Gender_Female', 'Gender_Male', 'Ever Married_No',\n",
        "       'Ever Married_Yes', 'Work Type_Govt_job', 'Work Type_Never_worked',\n",
        "       'Work Type_Private', 'Work Type_Self-employed', 'Work Type_children',\n",
        "       'Residence Type_Rural', 'Residence Type_Urban',\n",
        "       'Smoking Status_Unknown', 'Smoking Status_formerly smoked',\n",
        "       'Smoking Status_never smoked', 'Smoking Status_smokes']]\n",
        "y = df_stroke2['Stroke']\n",
        "X_train, X_test, y_train, y_test = train_test_split(X, y, test_size=0.3, stratify=y)\n",
        "print(X_train.shape)\n",
        "print(X_test.shape)\n",
        "\n",
        "\n",
        "linear_model = LinearRegression()\n",
        "linear_model.fit(X_train, y_train)\n",
        "linear_pred = linear_model.predict(X_test)\n",
        "\n",
        "#linear_average = accuracy_score(y_test, linear_pred)\n",
        "print('Test score:', linear_model.score(X_test, y_test))\n",
        "print('Train score:', linear_model.score(X_train, y_train))\n",
        "print('Model score:', linear_model.score(X_test, linear_pred))\n",
        "rmse = np.sqrt(mean_squared_error(y_test, linear_pred))\n",
        "print('Root mean squared error: ',rmse) \n",
        "\n",
        "visualizer = ResidualsPlot(linear_model)\n",
        "visualizer.fit(X_train, y_train)\n",
        "visualizer.score(X_test, y_test)\n",
        "visualizer.poof();\n",
        "\n",
        "#We can see this is not a great linear model"
      ],
      "execution_count": null,
      "outputs": []
    },
    {
      "cell_type": "code",
      "metadata": {
        "id": "5LlhY6UnUJkz"
      },
      "source": [
        "#Logistic Regression Model\n",
        "\n",
        "from sklearn.linear_model import LogisticRegression\n",
        "\n",
        "#Make model, fit, predict\n",
        "logistic_model = LogisticRegression(random_state=42)\n",
        "logistic_model.fit(X_train, y_train)\n",
        "logistic_pred = logistic_model.predict(X_test)\n",
        "print('Logistic Regression Accuracy Score: ',accuracy_score(y_test, logistic_pred))\n",
        "\n",
        "matrix = metrics.confusion_matrix(y_test, logistic_pred)\n",
        "print(matrix)\n",
        "metrics.plot_confusion_matrix(logistic_model, X_test, y_test)\n",
        "plt.grid(False)\n",
        "#print(metrics.accuracy_score(y_test, logistic_pred))"
      ],
      "execution_count": null,
      "outputs": []
    },
    {
      "cell_type": "code",
      "metadata": {
        "id": "Qi-c8nATUIxV"
      },
      "source": [
        "#Decision Tree Model\n",
        "\n",
        "from sklearn.tree import DecisionTreeClassifier\n",
        "from sklearn import tree\n",
        "from sklearn import metrics\n",
        "\n",
        "#Make model, fit, predict\n",
        "dt_model = DecisionTreeClassifier(max_features=len(X.columns), max_depth=5,  random_state=42)\n",
        "dt_model.fit(X_train, y_train)\n",
        "dt_pred = dt_model.predict(X_test)\n",
        "\n",
        "matrix = metrics.confusion_matrix(y_test, dt_pred)\n",
        "print(matrix)\n",
        "print('Decision Tree Model Score: ',metrics.accuracy_score(y_test, dt_pred))\n",
        "print(metrics.classification_report(y_test,dt_pred))\n",
        "\n",
        "plt.figure()\n",
        "plt.figure(figsize=(20,10))\n",
        "DT = tree.plot_tree(dt_model, filled = True)\n",
        "#DT = tree.plot_tree(dt_model, feature_names = X.columns, class_names = y.unique(), filled = True)\n",
        "plt.show()\n",
        "\n",
        "imp = pd.DataFrame(zip(X_train.columns, dt_model.feature_importances_))\n",
        "sorted = imp.sort_values(by = 1, ascending = False)\n",
        "print('Top three most important features are:', sorted[0:3])"
      ],
      "execution_count": null,
      "outputs": []
    },
    {
      "cell_type": "code",
      "metadata": {
        "id": "ssgxgY7V7Et4"
      },
      "source": [
        "#Random Forest\n",
        "\n",
        "from sklearn.ensemble import RandomForestClassifier\n",
        "\n",
        "rf_model = RandomForestClassifier(n_estimators=100, max_features=len(X.columns), max_depth=5,  random_state=42)\n",
        "rf_model.fit(X_train, y_train)\n",
        "rf_pred = rf_model.predict(X_test)\n",
        "\n",
        "matrix = metrics.confusion_matrix(y_test, rf_pred)\n",
        "print(matrix)\n",
        "print('Random Forest Model Score: ',metrics.accuracy_score(y_test, rf_pred))\n",
        "print(metrics.classification_report(y_test,rf_pred))\n",
        "\n",
        "imp = pd.DataFrame(zip(X_train.columns, rf_model.feature_importances_))\n",
        "sorted = imp.sort_values(by = 1, ascending = False)\n",
        "print('Top three most important features are:', sorted[0:3])\n",
        "\n",
        "#print_recall_scores(rf_model, X_test, y_test)"
      ],
      "execution_count": null,
      "outputs": []
    },
    {
      "cell_type": "code",
      "metadata": {
        "id": "q3U-QM68wE-L"
      },
      "source": [
        "#Bagging Method\n",
        "\n",
        "from sklearn.ensemble import BaggingClassifier\n",
        "from sklearn.tree import DecisionTreeClassifier\n",
        "from sklearn.metrics import accuracy_score\n",
        "\n",
        "base_est = DecisionTreeClassifier(max_depth =5, max_features=len(X.columns), random_state = 42)\n",
        "bagged_model = BaggingClassifier(base_estimator = base_est, random_state=42)\n",
        "bagged_model.fit(X_train, y_train)\n",
        "pred_bagged = bagged_model.predict(X_test)\n",
        "acc_bagged = accuracy_score(y_test, pred_bagged)\n",
        "print('Bagging Accuracy = ', acc_bagged)\n",
        "\n",
        "matrix = metrics.confusion_matrix(y_test, pred_bagged)\n",
        "print(matrix)\n",
        "print('Bagging Score: ',metrics.accuracy_score(y_test, pred_bagged))\n",
        "print(metrics.classification_report(y_test,pred_bagged))\n",
        "\n",
        "#acc_bagging = round(metrics.accuracy_score(y_test, pred_bagged),4)\n",
        "#print('Bagging Accuracy = ', acc_bagging)"
      ],
      "execution_count": null,
      "outputs": []
    },
    {
      "cell_type": "code",
      "metadata": {
        "id": "zY-DSwy17Oer"
      },
      "source": [
        "#Support Vector \n",
        "\n",
        "from sklearn import svm\n",
        "\n",
        "supportvector_model = svm.SVC(random_state=42)\n",
        "supportvector_model.fit(X_train, y_train)\n",
        "supportvector_pred = supportvector_model.predict(X_test)\n",
        "\n",
        "matrix = metrics.confusion_matrix(y_test, supportvector_pred)\n",
        "print(matrix)\n",
        "print('Support Vector Score: ',metrics.accuracy_score(y_test, supportvector_pred))\n",
        "print(metrics.classification_report(y_test,supportvector_pred))\n",
        "#print('Support Vector Accuracy Score: ',accuracy_score(y_test, supportvector_pred))"
      ],
      "execution_count": null,
      "outputs": []
    },
    {
      "cell_type": "markdown",
      "metadata": {
        "id": "ohcrv8D3JTkf"
      },
      "source": [
        "#**Data Wrangling Part 2**\n"
      ]
    },
    {
      "cell_type": "code",
      "metadata": {
        "id": "NZ2ItuaJlsCr"
      },
      "source": [
        "#Data Wrangling Part 2\n",
        "\n",
        "#4700 non-stroke values and 409 stroke values (very uneven datatset)\n",
        "print(len(df_stroke[df_stroke['Stroke']==0]))\n",
        "print(len(df_stroke[df_stroke['Stroke']==1]))\n",
        "\n",
        "balance1 = df_stroke[df_stroke[\"Stroke\"]==1].sample(n=209, replace=False)\n",
        "balance1.reset_index(drop=True, inplace=True)\n",
        "\n",
        "balance0 = df_stroke[df_stroke[\"Stroke\"]==0].sample(n=209, replace=False)\n",
        "balance0.reset_index(drop=True, inplace=True)\n",
        "\n",
        "balance_df= pd.concat([balance1, balance0], axis=0, join='outer')\n",
        "\n",
        "print(\"Rows containing 0 = \", len(balance_df[balance_df[\"Stroke\"]==0]))\n",
        "print(\"Rows containing 1 = \", len(balance_df[balance_df[\"Stroke\"]==1]))"
      ],
      "execution_count": null,
      "outputs": []
    },
    {
      "cell_type": "code",
      "metadata": {
        "id": "sWDfmJ1Yscm-"
      },
      "source": [
        "X = balance_df.iloc[:, 0:-1]\n",
        "y = balance_df.iloc[:, -1]\n",
        "\n",
        "X_train, X_test, y_train, y_test = train_test_split(X, y, test_size=0.3, stratify=y, random_state=42)"
      ],
      "execution_count": 13,
      "outputs": []
    },
    {
      "cell_type": "code",
      "metadata": {
        "id": "a8m-8G1PmzlI"
      },
      "source": [
        "#Baseline classification accuracy \n",
        "\n",
        "from sklearn.dummy import DummyClassifier\n",
        "\n",
        "dummy_classifier = DummyClassifier(strategy='most_frequent', random_state=42)\n",
        "dummy_classifier.fit(X_train,y_train)\n",
        "baseline_acc = dummy_classifier.score(X_test,y_test)\n",
        "print(\"Baseline Accuracy = \", baseline_acc)"
      ],
      "execution_count": null,
      "outputs": []
    },
    {
      "cell_type": "markdown",
      "metadata": {
        "id": "lQFCa4rZJawY"
      },
      "source": [
        "#**Modeling Part 2**"
      ]
    },
    {
      "cell_type": "code",
      "metadata": {
        "id": "tJNRLOlxzqBt"
      },
      "source": [
        "#Linear Regression Model (with balanaced dataset)\n",
        "from sklearn.linear_model import LinearRegression\n",
        "from sklearn.metrics import accuracy_score\n",
        "from yellowbrick.regressor import ResidualsPlot\n",
        "from sklearn.metrics import mean_squared_error\n",
        "\n",
        "#Set Dummy Variables\n",
        "df_dummies = pd.get_dummies(balance_df[['Gender', 'Ever Married', 'Work Type', 'Residence Type', 'Smoking Status']])\n",
        "balance_df2 = pd.concat([balance_df,df_dummies],axis=1)\n",
        "\n",
        "#Drop old columns and 'Gender_Other' column (all 0s)\n",
        "balance_df2 = balance_df2.drop(columns=['Gender', 'Ever Married', 'Work Type', 'Residence Type', 'Smoking Status'])\n",
        "print(balance_df2.columns)\n",
        "\n",
        "#Make model, fit, predict\n",
        "X = balance_df2[['Age', 'Hypertension', 'Heart Disease', 'Avg. Glucose Level', 'BMI', \n",
        "                'Gender_Female', 'Gender_Male', 'Ever Married_No',\n",
        "       'Ever Married_Yes', 'Work Type_Govt_job', 'Work Type_Private', 'Work Type_Self-employed', 'Work Type_children',\n",
        "       'Residence Type_Rural', 'Residence Type_Urban',\n",
        "       'Smoking Status_Unknown', 'Smoking Status_formerly smoked',\n",
        "       'Smoking Status_never smoked', 'Smoking Status_smokes']]\n",
        "y = balance_df2['Stroke']\n",
        "X_train, X_test, y_train, y_test = train_test_split(X, y, test_size=0.3, stratify=y)\n",
        "print(X_train.shape)\n",
        "print(X_test.shape)\n",
        "\n",
        "linear_model = LinearRegression()\n",
        "linear_model.fit(X_train, y_train)\n",
        "linear_pred = linear_model.predict(X_test)\n",
        "\n",
        "#linear_average = accuracy_score(y_test, linear_pred)\n",
        "print('Test score:', linear_model.score(X_test, y_test))\n",
        "print('Train score:', linear_model.score(X_train, y_train))\n",
        "print('Model score:', linear_model.score(X_test, linear_pred))\n",
        "rmse = np.sqrt(mean_squared_error(y_test, linear_pred))\n",
        "print('Root mean squared error: ',rmse) \n",
        "\n",
        "visualizer = ResidualsPlot(linear_model)\n",
        "visualizer.fit(X_train, y_train)\n",
        "visualizer.score(X_test, y_test)\n",
        "visualizer.poof();"
      ],
      "execution_count": null,
      "outputs": []
    },
    {
      "cell_type": "code",
      "metadata": {
        "id": "9G4_CohczjpS"
      },
      "source": [
        "#Logistic Regression Model (with balanced dataset)\n",
        "\n",
        "from sklearn.linear_model import LogisticRegression\n",
        "from sklearn import metrics\n",
        "\n",
        "#Make model, fit, predict\n",
        "logistic_model = LogisticRegression()\n",
        "logistic_model.fit(X_train, y_train)\n",
        "logistic_pred = logistic_model.predict(X_test)\n",
        "print('Logistic Regression Accuracy Score: ',accuracy_score(y_test, logistic_pred))\n",
        "\n",
        "matrix = metrics.confusion_matrix(y_test, logistic_pred)\n",
        "print(matrix)\n",
        "metrics.plot_confusion_matrix(logistic_model, X_test, y_test)\n",
        "plt.grid(False)\n",
        "#print(metrics.accuracy_score(y_test, logistic_pred))"
      ],
      "execution_count": null,
      "outputs": []
    },
    {
      "cell_type": "code",
      "metadata": {
        "id": "ajXLReBz0YRj"
      },
      "source": [
        "#Decision Tree Model (with balanced dataset)\n",
        "\n",
        "from sklearn.tree import DecisionTreeClassifier\n",
        "from sklearn import tree\n",
        "from sklearn import metrics\n",
        "\n",
        "#Make model, fit, predict\n",
        "\n",
        "dt_model = DecisionTreeClassifier(max_features=len(X.columns), max_depth=5,  random_state=42)\n",
        "dt_model.fit(X_train, y_train)\n",
        "dt_pred = dt_model.predict(X_test)\n",
        "\n",
        "matrix = metrics.confusion_matrix(y_test, dt_pred)\n",
        "print(matrix)\n",
        "print('Decision Tree Model Score: ',metrics.accuracy_score(y_test, dt_pred))\n",
        "print(metrics.classification_report(y_test,dt_pred))\n",
        "\n",
        "plt.figure()\n",
        "plt.figure(figsize=(20,10))\n",
        "DT = tree.plot_tree(dt_model, filled = True)\n",
        "#DT = tree.plot_tree(dt_model, feature_names = X.columns, class_names = y.unique(), filled = True)\n",
        "plt.show()\n",
        "\n",
        "imp = pd.DataFrame(zip(X_train.columns, dt_model.feature_importances_))\n",
        "sorted = imp.sort_values(by = 1, ascending = False)\n",
        "print('Top three most important features are:', sorted[0:3])"
      ],
      "execution_count": null,
      "outputs": []
    },
    {
      "cell_type": "code",
      "metadata": {
        "id": "sE6LS8Bj0v-L"
      },
      "source": [
        "#Random Forest (with balanced dataset)\n",
        "\n",
        "from sklearn.ensemble import RandomForestClassifier\n",
        "X = balance_df2[['Age', 'Hypertension', 'Heart Disease', 'Avg. Glucose Level', 'BMI', \n",
        "                'Gender_Female', 'Gender_Male', 'Ever Married_No',\n",
        "       'Ever Married_Yes', 'Work Type_Govt_job', 'Work Type_Private', 'Work Type_Self-employed', 'Work Type_children',\n",
        "       'Residence Type_Rural', 'Residence Type_Urban',\n",
        "       'Smoking Status_Unknown', 'Smoking Status_formerly smoked',\n",
        "       'Smoking Status_never smoked', 'Smoking Status_smokes']]\n",
        "y = balance_df2['Stroke']\n",
        "X_train, X_test, y_train, y_test = train_test_split(X, y, test_size=0.3, stratify=y)\n",
        "\n",
        "rf_model = RandomForestClassifier(n_estimators=100, max_features=len(X.columns), max_depth=5, random_state=42)\n",
        "rf_model.fit(X_train, y_train)\n",
        "rf_pred = rf_model.predict(X_test)\n",
        "\n",
        "matrix = metrics.confusion_matrix(y_test, rf_pred)\n",
        "print(matrix)\n",
        "print('Random Forest Model Score: ',metrics.accuracy_score(y_test, rf_pred))\n",
        "print(metrics.classification_report(y_test,rf_pred))\n",
        "\n",
        "#performs better than decision tree balanced dataset score\n",
        "#even though decision tree/random forest scores are initially very similar without balanced dataset!\n",
        "\n",
        "imp = pd.DataFrame(zip(X_train.columns, rf_model.feature_importances_))\n",
        "sorted = imp.sort_values(by = 1, ascending = False)\n",
        "print('Top three most important features are:', sorted[0:3])"
      ],
      "execution_count": null,
      "outputs": []
    },
    {
      "cell_type": "code",
      "metadata": {
        "id": "c4hgawIsYMKH"
      },
      "source": [
        "#Bagging Method (with balanced dataset)\n",
        "\n",
        "from sklearn.ensemble import BaggingClassifier\n",
        "from sklearn.tree import DecisionTreeClassifier\n",
        "from sklearn.metrics import accuracy_score\n",
        "\n",
        "base_est = DecisionTreeClassifier(max_depth =5, max_features=len(X.columns), random_state = 42)\n",
        "bagged_model = BaggingClassifier(base_estimator = base_est, random_state=42)\n",
        "bagged_model.fit(X_train, y_train)\n",
        "pred_bagged = bagged_model.predict(X_test)\n",
        "acc_bagged = accuracy_score(y_test, pred_bagged)\n",
        "print('Bagging Accuracy = ', acc_bagged)\n",
        "matrix = metrics.confusion_matrix(y_test, pred_bagged)\n",
        "print(matrix)\n",
        "print('Bagging Score: ',metrics.accuracy_score(y_test, pred_bagged))\n",
        "print(metrics.classification_report(y_test,pred_bagged))"
      ],
      "execution_count": null,
      "outputs": []
    },
    {
      "cell_type": "code",
      "metadata": {
        "id": "GO_BVvyF1nJr"
      },
      "source": [
        "#Support Vector (with balanced dataset)\n",
        "\n",
        "from sklearn import svm\n",
        "X = balance_df2[['Age', 'Hypertension', 'Heart Disease', 'Avg. Glucose Level', 'BMI', \n",
        "                'Gender_Female', 'Gender_Male', 'Ever Married_No',\n",
        "       'Ever Married_Yes', 'Work Type_Govt_job', 'Work Type_Private', 'Work Type_Self-employed', 'Work Type_children',\n",
        "       'Residence Type_Rural', 'Residence Type_Urban',\n",
        "       'Smoking Status_Unknown', 'Smoking Status_formerly smoked',\n",
        "       'Smoking Status_never smoked', 'Smoking Status_smokes']]\n",
        "y = balance_df2['Stroke']\n",
        "X_train, X_test, y_train, y_test = train_test_split(X, y, test_size=0.3, stratify=y, random_state=42)\n",
        "\n",
        "supportvector_model = svm.SVC()\n",
        "supportvector_model.fit(X_train, y_train)\n",
        "supportvector_pred = supportvector_model.predict(X_test)\n",
        "\n",
        "matrix = metrics.confusion_matrix(y_test, supportvector_pred)\n",
        "print(matrix)\n",
        "print('Support Vector Score: ',metrics.accuracy_score(y_test, supportvector_pred))\n",
        "print(metrics.classification_report(y_test,supportvector_pred))\n",
        "#print('Support Vector Accuracy Score: ',accuracy_score(y_test, supportvector_pred))"
      ],
      "execution_count": null,
      "outputs": []
    },
    {
      "cell_type": "markdown",
      "metadata": {
        "id": "UJnVD9nuIGvL"
      },
      "source": [
        "# **Cross Validation**"
      ]
    },
    {
      "cell_type": "code",
      "metadata": {
        "id": "vyNQhGsPq0eL"
      },
      "source": [
        "#Lasso CV\n",
        "\n",
        "from sklearn.linear_model import Ridge\n",
        "from sklearn.linear_model import Lasso\n",
        "from sklearn.metrics import mean_squared_error\n",
        "from yellowbrick.regressor import ResidualsPlot\n",
        "from sklearn.model_selection import cross_val_score\n",
        "\n",
        "alpha_space = np.logspace(-4, 0, 50)\n",
        "model_scores = []\n",
        "\n",
        "lasso_model = Lasso(normalize=True)\n",
        "for alpha in alpha_space:\n",
        "\n",
        "    # Specify the alpha value to use\n",
        "    lasso_model.alpha = alpha\n",
        "    \n",
        "    # Perform 10-fold CV\n",
        "    lasso_cv_scores = cross_val_score(lasso_model,X,y,cv=10)\n",
        "    \n",
        "    # Append the mean of lasso_cv_scores to model_scores = []\n",
        "    model_scores.append(np.mean(lasso_cv_scores))\n",
        "\n",
        "print(model_scores)\n",
        "print(np.argmax(model_scores)) #returns index of the highest model_score (best alpha value)\n",
        "print(alpha_space[8]) #plug in argmax index"
      ],
      "execution_count": null,
      "outputs": []
    },
    {
      "cell_type": "code",
      "metadata": {
        "id": "YSkc3Z4EpoYS"
      },
      "source": [
        "#Lasso CV\n",
        "\n",
        "from sklearn.linear_model import Lasso\n",
        "\n",
        "alpha_user = 0.0016768329368110067 #play with alpha and you will get different results (between 0 and 1)\n",
        "lasso_model = Lasso(alpha=alpha_user,normalize=True)\n",
        "lasso_model.fit(X_train,y_train)\n",
        "lasso_pred = lasso_model.predict(X_test)\n",
        "\n",
        "print(\"Lasso Model Score:\", lasso_model.score(X_test, y_test))\n",
        "print(\"Lasso Model Coefficients:\", lasso_model.coef_)\n",
        "\n",
        "plt.plot(range(len(X.columns)), lasso_model.coef_)\n",
        "plt.xticks(range(len(X.columns)), X.columns, rotation=60)\n",
        "plt.show()"
      ],
      "execution_count": null,
      "outputs": []
    },
    {
      "cell_type": "code",
      "metadata": {
        "id": "fYkNnsXqag6G"
      },
      "source": [
        "#Graph Random Forest Train/Test Errors\n",
        "\n",
        "from sklearn.ensemble import RandomForestRegressor\n",
        "import seaborn as sns \n",
        "\n",
        "n_estimators = [10,20,50,100,200,250,300,350,500]\n",
        "\n",
        "train_error = []\n",
        "test_error = []\n",
        "\n",
        "for i in n_estimators:\n",
        "    regressor = RandomForestRegressor(n_estimators=i)\n",
        "    regressor.fit(X_train, y_train)\n",
        "    train_error.append(np.sqrt(mean_squared_error(y_train, regressor.predict(X_train))))\n",
        "    test_error.append(np.sqrt(mean_squared_error(y_test, regressor.predict(X_test))))\n",
        "\n",
        "plt.figure(figsize = (15, 10))\n",
        "plt.title('Random Forest: Model Complexity vs RMSE', fontsize=20)\n",
        "plt.ylabel('RMSE', fontsize=20)\n",
        "plt.xlabel('Number of Trees', fontsize=20)\n",
        "print(train_error)\n",
        "print(test_error)\n",
        "sns.lineplot(n_estimators, train_error, label='Train')\n",
        "sns.lineplot(n_estimators, test_error, color='r', label='Test')\n",
        "plt.show()"
      ],
      "execution_count": null,
      "outputs": []
    },
    {
      "cell_type": "code",
      "metadata": {
        "id": "w4Ui30g38c-l"
      },
      "source": [
        "#Run AdaBoostClassifier to check if optimal number of n_estimators = 100\n",
        "\n",
        "from sklearn.ensemble import AdaBoostClassifier\n",
        "from sklearn.tree import DecisionTreeClassifier\n",
        "from sklearn.metrics import (\n",
        "    classification_report,\n",
        "    recall_score,\n",
        "    precision_score,\n",
        "    accuracy_score\n",
        ")\n",
        "\n",
        "ada_boost1 = AdaBoostClassifier(dt_model, n_estimators=50, random_state=42, learning_rate=.05)\n",
        "ada_boost1.fit(X_train, y_train)\n",
        "ada_boost2 = AdaBoostClassifier(dt_model, n_estimators=100, random_state=42, learning_rate=.05)\n",
        "ada_boost2.fit(X_train, y_train)\n",
        "ada_boost3 = AdaBoostClassifier(dt_model, n_estimators=500, random_state=42, learning_rate=.05)\n",
        "ada_boost3.fit(X_train, y_train)\n",
        "res1 = round(recall_score(y_test, ada_boost1.predict(X_test)), 4)\n",
        "res2 = round(recall_score(y_test, ada_boost2.predict(X_test)),4)\n",
        "res3 = round(recall_score(y_test, ada_boost3.predict(X_test)),4)\n",
        "\n",
        "print('MODEL 1 Recall:\\t {}'.format(res1))\n",
        "print('MODEL 2 Recall:\\t {}'.format(res2))\n",
        "print('MODEL 3 Recall:\\t {}'.format(res3))"
      ],
      "execution_count": null,
      "outputs": []
    },
    {
      "cell_type": "code",
      "metadata": {
        "id": "f1NBCkkFbgmn"
      },
      "source": [
        "#Random Forest - Cross Validation\n",
        "\n",
        "#Create validation dataset\n",
        "#X_train, X_test, y_train, y_test = train_test_split(X, y, test_size=0.3, stratify = y, random_state = 42)\n",
        "X_val, X_test, y_val, y_test = train_test_split(X_test, y_test, test_size=0.5, stratify = y_test, random_state = 42)"
      ],
      "execution_count": 23,
      "outputs": []
    },
    {
      "cell_type": "code",
      "metadata": {
        "id": "J9DsKHAVpaGd"
      },
      "source": [
        "#Random Forest - CV\n",
        "from sklearn.model_selection import cross_val_score\n",
        "from sklearn.ensemble import RandomForestClassifier\n",
        "\n",
        "#Create, fit, predict model on train set\n",
        "rf_model = RandomForestClassifier(n_estimators=100, max_features=len(X.columns), max_depth=5, random_state=42)\n",
        "rf_model.fit(X_train, y_train)\n",
        "rf_pred2 = rf_model.predict(X_val)\n",
        "\n",
        "#Cross Validation score\n",
        "print(\"Cross Validation Score: \", cross_val_score(rf_model, X_val, y_val, cv=5, scoring='accuracy').mean())\n",
        "\n",
        "matrix = metrics.confusion_matrix(y_val, rf_pred2)\n",
        "print(matrix)\n",
        "\n",
        "print('Random Forest Model Score: ',metrics.accuracy_score(y_val, rf_pred2))\n",
        "print(metrics.classification_report(y_val,rf_pred2))\n",
        "\n",
        "imp = pd.DataFrame(zip(X_train.columns, rf_model.feature_importances_))\n",
        "sorted = imp.sort_values(by = 1, ascending = False)\n",
        "print('Top three most important features are:', sorted[0:3])"
      ],
      "execution_count": null,
      "outputs": []
    },
    {
      "cell_type": "code",
      "metadata": {
        "id": "U3l7fDpjbsuc"
      },
      "source": [
        "#Find the best max_depth and max_features to make model better\n",
        "\n",
        "depth = []\n",
        "features = []\n",
        "\n",
        "for i in range(3,20):\n",
        "  random_forest1 = RandomForestClassifier(n_estimators=100, max_depth=i)\n",
        "  random_forest1 = random_forest1.fit(X_train, y_train)\n",
        "  scores1 = cross_val_score(estimator = random_forest1, X=X_val, y = y_val, cv=10)\n",
        "  depth.append((i,scores1.mean()))\n",
        "\n",
        "  random_forest2 = RandomForestClassifier(n_estimators=100, max_features=i)\n",
        "  random_forest2 = random_forest2.fit(X_train, y_train)\n",
        "  scores2 = cross_val_score(estimator = random_forest2, X=X_val, y = y_val, cv=10)\n",
        "  features.append((i,scores2.mean()))\n",
        "\n",
        "print(depth)\n",
        "print(features)\n",
        "\n",
        "#Best depth: (19, 0.9023809523809524)\n",
        "#Best features: (3, 0.8714285714285713)"
      ],
      "execution_count": null,
      "outputs": []
    },
    {
      "cell_type": "code",
      "metadata": {
        "id": "PQo479oubx94"
      },
      "source": [
        "#Add new optimal depth and features\n",
        "#Re-run model and calculate new cross validation score on new model\n",
        "\n",
        "#rf_model_cv = RandomForestClassifier(n_estimators=100, max_features= 3, max_depth=19, random_state=42)\n",
        "rf_model_cv = RandomForestClassifier(n_estimators=100, max_features= 3, max_depth=5, random_state=42) #Switch depth back from 19 to 5 and see if same results (keep model simple)\n",
        "rf_model_cv.fit(X_train, y_train)\n",
        "rf_pred_cv= rf_model_cv.predict(X_test)\n",
        "\n",
        "print(\"Cross Validation Score: \", cross_val_score(rf_model_cv, X_val, y_val, cv=10, scoring='accuracy').mean())\n",
        "\n",
        "acc_forest_cv = metrics.accuracy_score(y_test, rf_pred_cv)\n",
        "print('Random Forest Accuracy after cross validation= ', acc_forest_cv)"
      ],
      "execution_count": null,
      "outputs": []
    },
    {
      "cell_type": "code",
      "metadata": {
        "colab": {
          "base_uri": "https://localhost:8080/",
          "height": 597
        },
        "id": "_UkKtmsLr7Nw",
        "outputId": "d6c2c57c-24d4-442b-b40a-e452278a0a2a"
      },
      "source": [
        "#Random Forest CV Model Results\n",
        "\n",
        "feature_importances = rf_model_cv.feature_importances_\n",
        "imp = pd.DataFrame(zip(X_train.columns, rf_model_cv.feature_importances_))\n",
        "sorted = imp.sort_values(by = 1, ascending = False)\n",
        "print('Top three most important features:', sorted[0:3])\n",
        "\n",
        "x_values = list(range(len(feature_importances)))\n",
        "plt.bar(x_values, feature_importances, orientation = 'vertical', color='r')\n",
        "plt.xticks(x_values, X.columns, rotation='vertical')\n",
        "plt.ylabel('Importance')\n",
        "plt.xlabel('Input Variable')\n",
        "plt.title('Feature Importances')"
      ],
      "execution_count": 28,
      "outputs": [
        {
          "output_type": "stream",
          "text": [
            "Top three most important features:                     0         1\n",
            "0                 Age  0.439179\n",
            "3  Avg. Glucose Level  0.148564\n",
            "4                 BMI  0.091025\n"
          ],
          "name": "stdout"
        },
        {
          "output_type": "execute_result",
          "data": {
            "text/plain": [
              "Text(0.5, 1.0, 'Feature Importances')"
            ]
          },
          "metadata": {
            "tags": []
          },
          "execution_count": 28
        },
        {
          "output_type": "display_data",
          "data": {
            "image/png": "[encoded data removed]",
            "text/plain": [
              "<Figure size 576x396 with 1 Axes>"
            ]
          },
          "metadata": {
            "tags": []
          }
        }
      ]
    }
  ]
}